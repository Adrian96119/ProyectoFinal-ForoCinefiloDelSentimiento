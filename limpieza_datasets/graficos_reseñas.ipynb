{
 "cells": [
  {
   "cell_type": "code",
   "execution_count": 102,
   "metadata": {},
   "outputs": [],
   "source": [
    "import requests\n",
    "import seaborn as sns\n",
    "import pandas as pd\n",
    "import matplotlib.pyplot as plt\n",
    "%matplotlib inline"
   ]
  },
  {
   "cell_type": "code",
   "execution_count": 103,
   "metadata": {},
   "outputs": [],
   "source": [
    "def cambiar_calificacion(df,column,string,numero):\n",
    "    df[column]= df[column].replace(string,numero)\n",
    "    return df[column].value_counts()\n",
    "    "
   ]
  },
  {
   "cell_type": "code",
   "execution_count": 104,
   "metadata": {},
   "outputs": [],
   "source": [
    "url = \"http://127.0.0.1:5000/reseñas\""
   ]
  },
  {
   "cell_type": "code",
   "execution_count": 105,
   "metadata": {},
   "outputs": [],
   "source": [
    "todo_reseñas = requests.get(url_reseñas).json()"
   ]
  },
  {
   "cell_type": "code",
   "execution_count": 106,
   "metadata": {},
   "outputs": [],
   "source": [
    "todo_reseñas =pd.DataFrame(todo_reseñas)"
   ]
  },
  {
   "cell_type": "code",
   "execution_count": 107,
   "metadata": {},
   "outputs": [
    {
     "data": {
      "text/html": [
       "<div>\n",
       "<style scoped>\n",
       "    .dataframe tbody tr th:only-of-type {\n",
       "        vertical-align: middle;\n",
       "    }\n",
       "\n",
       "    .dataframe tbody tr th {\n",
       "        vertical-align: top;\n",
       "    }\n",
       "\n",
       "    .dataframe thead th {\n",
       "        text-align: right;\n",
       "    }\n",
       "</style>\n",
       "<table border=\"1\" class=\"dataframe\">\n",
       "  <thead>\n",
       "    <tr style=\"text-align: right;\">\n",
       "      <th></th>\n",
       "      <th>_id</th>\n",
       "      <th>pelicula</th>\n",
       "      <th>usuario</th>\n",
       "      <th>calificacion</th>\n",
       "      <th>reseña</th>\n",
       "    </tr>\n",
       "  </thead>\n",
       "  <tbody>\n",
       "    <tr>\n",
       "      <th>0</th>\n",
       "      <td>{'$oid': '5fd8c062eeb7479ab0b47b69'}</td>\n",
       "      <td>CATWOMAN</td>\n",
       "      <td>katy</td>\n",
       "      <td>:(</td>\n",
       "      <td>A horrible movie. Full of cliches, stupid dial...</td>\n",
       "    </tr>\n",
       "    <tr>\n",
       "      <th>1</th>\n",
       "      <td>{'$oid': '5fd8c300eeb7479ab0b47b6b'}</td>\n",
       "      <td>THE GODFATHER</td>\n",
       "      <td>jesusin</td>\n",
       "      <td>:)</td>\n",
       "      <td>Overflowing with life, rich with all the grand...</td>\n",
       "    </tr>\n",
       "    <tr>\n",
       "      <th>2</th>\n",
       "      <td>{'$oid': '5fd934240046e3751456f9fc'}</td>\n",
       "      <td>abierto hasta el amanecer</td>\n",
       "      <td>satanas</td>\n",
       "      <td>:)</td>\n",
       "      <td>really enjoyed the first half then it took a 1...</td>\n",
       "    </tr>\n",
       "    <tr>\n",
       "      <th>3</th>\n",
       "      <td>{'$oid': '5fd9db67ab87026fe81daf44'}</td>\n",
       "      <td>CATWOMAN</td>\n",
       "      <td>rasputin</td>\n",
       "      <td>:(</td>\n",
       "      <td>Bereft of excitement and with action scenes si...</td>\n",
       "    </tr>\n",
       "    <tr>\n",
       "      <th>4</th>\n",
       "      <td>{'$oid': '5fda1537ed4b265007766100'}</td>\n",
       "      <td>CATWOMAN</td>\n",
       "      <td>jesusin</td>\n",
       "      <td>:(</td>\n",
       "      <td>Relentlessly gaudy and in love with its PG-13 ...</td>\n",
       "    </tr>\n",
       "    <tr>\n",
       "      <th>5</th>\n",
       "      <td>{'$oid': '5fda329975de7df5d6f94c20'}</td>\n",
       "      <td>CATWOMAN</td>\n",
       "      <td>felipe</td>\n",
       "      <td>:)</td>\n",
       "      <td>I'm well aware many people hate this movie and...</td>\n",
       "    </tr>\n",
       "    <tr>\n",
       "      <th>6</th>\n",
       "      <td>{'$oid': '5fda376375de7df5d6f94c21'}</td>\n",
       "      <td>THE GODFATHER</td>\n",
       "      <td>katy</td>\n",
       "      <td>:)</td>\n",
       "      <td>One of the greatest movies of all time</td>\n",
       "    </tr>\n",
       "    <tr>\n",
       "      <th>7</th>\n",
       "      <td>{'$oid': '5fda38c875de7df5d6f94c22'}</td>\n",
       "      <td>THE GODFATHER</td>\n",
       "      <td>rasputin</td>\n",
       "      <td>:)</td>\n",
       "      <td>From it's stellar opening wedding scene to it'...</td>\n",
       "    </tr>\n",
       "    <tr>\n",
       "      <th>8</th>\n",
       "      <td>{'$oid': '5fda46e905e4ea8aff4ed48d'}</td>\n",
       "      <td>abierto hasta el amanecer</td>\n",
       "      <td>katy</td>\n",
       "      <td>:(</td>\n",
       "      <td>A tired, humorless pastiche of various exploit...</td>\n",
       "    </tr>\n",
       "  </tbody>\n",
       "</table>\n",
       "</div>"
      ],
      "text/plain": [
       "                                    _id                   pelicula   usuario  \\\n",
       "0  {'$oid': '5fd8c062eeb7479ab0b47b69'}                   CATWOMAN      katy   \n",
       "1  {'$oid': '5fd8c300eeb7479ab0b47b6b'}              THE GODFATHER   jesusin   \n",
       "2  {'$oid': '5fd934240046e3751456f9fc'}  abierto hasta el amanecer   satanas   \n",
       "3  {'$oid': '5fd9db67ab87026fe81daf44'}                   CATWOMAN  rasputin   \n",
       "4  {'$oid': '5fda1537ed4b265007766100'}                   CATWOMAN   jesusin   \n",
       "5  {'$oid': '5fda329975de7df5d6f94c20'}                   CATWOMAN    felipe   \n",
       "6  {'$oid': '5fda376375de7df5d6f94c21'}              THE GODFATHER      katy   \n",
       "7  {'$oid': '5fda38c875de7df5d6f94c22'}              THE GODFATHER  rasputin   \n",
       "8  {'$oid': '5fda46e905e4ea8aff4ed48d'}  abierto hasta el amanecer      katy   \n",
       "\n",
       "  calificacion                                             reseña  \n",
       "0           :(  A horrible movie. Full of cliches, stupid dial...  \n",
       "1           :)  Overflowing with life, rich with all the grand...  \n",
       "2           :)  really enjoyed the first half then it took a 1...  \n",
       "3           :(  Bereft of excitement and with action scenes si...  \n",
       "4           :(  Relentlessly gaudy and in love with its PG-13 ...  \n",
       "5           :)  I'm well aware many people hate this movie and...  \n",
       "6           :)             One of the greatest movies of all time  \n",
       "7           :)  From it's stellar opening wedding scene to it'...  \n",
       "8           :(  A tired, humorless pastiche of various exploit...  "
      ]
     },
     "execution_count": 107,
     "metadata": {},
     "output_type": "execute_result"
    }
   ],
   "source": [
    "todo_reseñas"
   ]
  },
  {
   "cell_type": "code",
   "execution_count": 108,
   "metadata": {},
   "outputs": [],
   "source": [
    "#cambiar_calificacion(todo_reseñas,\"calificacion\",\":(\",0)"
   ]
  },
  {
   "cell_type": "code",
   "execution_count": 111,
   "metadata": {},
   "outputs": [
    {
     "data": {
      "image/png": "[encoded data removed]",
      "text/plain": [
       "<Figure size 1200x320 with 1 Axes>"
      ]
     },
     "metadata": {},
     "output_type": "display_data"
    }
   ],
   "source": [
    "plt.figure(figsize = (15,4))\n",
    "plt.style.use('classic')\n",
    "plt.title(\"top calificaciones\")\n",
    "sns.countplot(x='pelicula', hue='calificacion', data=todo_reseñas, palette= \"Set1\");\n"
   ]
  },
  {
   "cell_type": "code",
   "execution_count": 112,
   "metadata": {},
   "outputs": [
    {
     "data": {
      "image/png": "[encoded data removed]",
      "text/plain": [
       "<Figure size 1200x320 with 1 Axes>"
      ]
     },
     "metadata": {},
     "output_type": "display_data"
    }
   ],
   "source": [
    "plt.figure(figsize = (15,4))\n",
    "plt.style.use('classic')\n",
    "plt.title(\"top calificaciones\")\n",
    "sns.countplot(x='usuario', hue='calificacion', data=todo_reseñas, palette= \"Set1\");"
   ]
  },
  {
   "cell_type": "code",
   "execution_count": null,
   "metadata": {},
   "outputs": [],
   "source": []
  },
  {
   "cell_type": "code",
   "execution_count": null,
   "metadata": {},
   "outputs": [],
   "source": []
  },
  {
   "cell_type": "code",
   "execution_count": null,
   "metadata": {},
   "outputs": [],
   "source": []
  },
  {
   "cell_type": "code",
   "execution_count": null,
   "metadata": {},
   "outputs": [],
   "source": []
  }
 ],
 "metadata": {
  "kernelspec": {
   "display_name": "Python 3",
   "language": "python",
   "name": "python3"
  },
  "language_info": {
   "codemirror_mode": {
    "name": "ipython",
    "version": 3
   },
   "file_extension": ".py",
   "mimetype": "text/x-python",
   "name": "python",
   "nbconvert_exporter": "python",
   "pygments_lexer": "ipython3",
   "version": "3.8.3"
  }
 },
 "nbformat": 4,
 "nbformat_minor": 4
}
