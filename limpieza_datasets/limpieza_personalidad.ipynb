{
 "cells": [
  {
   "cell_type": "code",
   "execution_count": 1,
   "metadata": {},
   "outputs": [],
   "source": [
    "import pandas as pd\n",
    "import re\n",
    "from nltk.corpus import stopwords\n",
    "import nltk\n",
    "import re\n",
    "from keras.preprocessing.text import Tokenizer\n",
    "from keras.preprocessing.sequence import pad_sequences\n",
    "import pandas as pd\n",
    "from sklearn.model_selection import train_test_split\n",
    "import numpy as np\n",
    "\n",
    "\n",
    "\n"
   ]
  },
  {
   "cell_type": "code",
   "execution_count": 2,
   "metadata": {},
   "outputs": [],
   "source": [
    "per = pd.read_csv(\"../datasets/personalidades.csv\")"
   ]
  },
  {
   "cell_type": "code",
   "execution_count": 3,
   "metadata": {},
   "outputs": [],
   "source": [
    "for i in range(len(per[\"posts\"])):\n",
    "    per[\"posts\"][i] = per[\"posts\"][i].split(\"|\")\n",
    "    per[\"posts\"][i] = [x for x in per[\"posts\"][i] if x != \"\"]\n",
    "    \n",
    "    \n",
    "    \n",
    "\n",
    "    \n",
    "               \n",
    "               \n",
    "\n",
    "            \n",
    "               \n",
    "  "
   ]
  },
  {
   "cell_type": "code",
   "execution_count": 4,
   "metadata": {},
   "outputs": [
    {
     "data": {
      "text/html": [
       "<div>\n",
       "<style scoped>\n",
       "    .dataframe tbody tr th:only-of-type {\n",
       "        vertical-align: middle;\n",
       "    }\n",
       "\n",
       "    .dataframe tbody tr th {\n",
       "        vertical-align: top;\n",
       "    }\n",
       "\n",
       "    .dataframe thead th {\n",
       "        text-align: right;\n",
       "    }\n",
       "</style>\n",
       "<table border=\"1\" class=\"dataframe\">\n",
       "  <thead>\n",
       "    <tr style=\"text-align: right;\">\n",
       "      <th></th>\n",
       "      <th>come</th>\n",
       "      <th>pers</th>\n",
       "    </tr>\n",
       "  </thead>\n",
       "  <tbody>\n",
       "  </tbody>\n",
       "</table>\n",
       "</div>"
      ],
      "text/plain": [
       "Empty DataFrame\n",
       "Columns: [come, pers]\n",
       "Index: []"
      ]
     },
     "execution_count": 4,
     "metadata": {},
     "output_type": "execute_result"
    }
   ],
   "source": [
    "df = pd.DataFrame({\"come\":[],\"pers\":[]}) #creo un dataframe vacio\n",
    "df"
   ]
  },
  {
   "cell_type": "code",
   "execution_count": 5,
   "metadata": {},
   "outputs": [],
   "source": [
    "#separo cada comentario de cada persona en una fila distinta asi como la personalidad con ese comentario\n",
    "for y in range(len(per)):\n",
    "    df = df.append(pd.DataFrame({\"come\":per[\"posts\"][y],\"pers\":per[\"type\"][y]}), ignore_index=True) \n",
    "                                  \n",
    "    \n",
    "   "
   ]
  },
  {
   "cell_type": "code",
   "execution_count": 6,
   "metadata": {},
   "outputs": [],
   "source": [
    "df.to_csv(\"../datasets/fila_comentarios.csv\") #exporto csv"
   ]
  },
  {
   "cell_type": "code",
   "execution_count": 7,
   "metadata": {},
   "outputs": [],
   "source": [
    "def preprocessing_sentence(sentence):\n",
    "    stoplist = set(stopwords.words(\"english\"))\n",
    "    #quito url\n",
    "    sentence = re.sub(r'\\w+:\\/{2}[\\d\\w-]+(\\.[\\d\\w-]+)*(?:(?:\\/[^\\s/]*))*', '', sentence)\n",
    "    #quito etiquetas\n",
    "    sentence = re.sub(r'<[^>]*?>', '',sentence)\n",
    "    #quito signos de puntuacion\n",
    "    sentence = re.sub('[^a-zA-Z]', ' ',sentence)\n",
    "    #quito espacios en blanco\n",
    "    sentence= re.sub(r'\\s+', ' ',sentence)\n",
    "    #todo minusculas\n",
    "    sentence = sentence.lower()\n",
    "    #quitar_string_cortos\n",
    "    sentence = sentence.split()\n",
    "    sentence = [x for x in sentence if len(x)>=3]\n",
    "    sentence = \" \".join(sentence)\n",
    "    #quitar palabras irrelevantes que esten en el stopwords\n",
    "    sentence = sentence.split()\n",
    "    sentence = [w for w in sentence if w not in stoplist]\n",
    "    #convierto sentencia a serie pandas, luego a string de lista como el formato con los que entrenó el modelo\n",
    "    sentence = pd.Series(str(sentence))\n",
    "    \n",
    "  \n",
    "    return sentence"
   ]
  },
  {
   "cell_type": "code",
   "execution_count": 8,
   "metadata": {},
   "outputs": [],
   "source": [
    "df1 = df.copy()"
   ]
  },
  {
   "cell_type": "code",
   "execution_count": 9,
   "metadata": {},
   "outputs": [],
   "source": [
    "for s in range(len(df1[\"come\"])):\n",
    "    df1[\"come\"][s] = preprocessing_sentence(df1[\"come\"][s])"
   ]
  },
  {
   "cell_type": "code",
   "execution_count": 10,
   "metadata": {},
   "outputs": [
    {
     "data": {
      "text/html": [
       "<div>\n",
       "<style scoped>\n",
       "    .dataframe tbody tr th:only-of-type {\n",
       "        vertical-align: middle;\n",
       "    }\n",
       "\n",
       "    .dataframe tbody tr th {\n",
       "        vertical-align: top;\n",
       "    }\n",
       "\n",
       "    .dataframe thead th {\n",
       "        text-align: right;\n",
       "    }\n",
       "</style>\n",
       "<table border=\"1\" class=\"dataframe\">\n",
       "  <thead>\n",
       "    <tr style=\"text-align: right;\">\n",
       "      <th></th>\n",
       "      <th>come</th>\n",
       "      <th>pers</th>\n",
       "    </tr>\n",
       "  </thead>\n",
       "  <tbody>\n",
       "    <tr>\n",
       "      <th>0</th>\n",
       "      <td>0    []\n",
       "dtype: object</td>\n",
       "      <td>INFJ</td>\n",
       "    </tr>\n",
       "    <tr>\n",
       "      <th>1</th>\n",
       "      <td>0    []\n",
       "dtype: object</td>\n",
       "      <td>INFJ</td>\n",
       "    </tr>\n",
       "    <tr>\n",
       "      <th>2</th>\n",
       "      <td>0    ['enfp', 'intj', 'moments', 'sportscenter...</td>\n",
       "      <td>INFJ</td>\n",
       "    </tr>\n",
       "    <tr>\n",
       "      <th>3</th>\n",
       "      <td>0    ['life', 'changing', 'experience', 'life'...</td>\n",
       "      <td>INFJ</td>\n",
       "    </tr>\n",
       "    <tr>\n",
       "      <th>4</th>\n",
       "      <td>0    ['repeat', 'today']\n",
       "dtype: object</td>\n",
       "      <td>INFJ</td>\n",
       "    </tr>\n",
       "    <tr>\n",
       "      <th>...</th>\n",
       "      <td>...</td>\n",
       "      <td>...</td>\n",
       "    </tr>\n",
       "    <tr>\n",
       "      <th>422681</th>\n",
       "      <td>0    ['going', 'close', 'facebook', 'months', ...</td>\n",
       "      <td>INFP</td>\n",
       "    </tr>\n",
       "    <tr>\n",
       "      <th>422682</th>\n",
       "      <td>0    ['seconds', 'mars', 'collections', 'seems...</td>\n",
       "      <td>INFP</td>\n",
       "    </tr>\n",
       "    <tr>\n",
       "      <th>422683</th>\n",
       "      <td>0    ['seen', 'agree', 'actually', 'think', 'f...</td>\n",
       "      <td>INFP</td>\n",
       "    </tr>\n",
       "    <tr>\n",
       "      <th>422684</th>\n",
       "      <td>0    ['watched', 'underworld', 'awakening', 'm...</td>\n",
       "      <td>INFP</td>\n",
       "    </tr>\n",
       "    <tr>\n",
       "      <th>422685</th>\n",
       "      <td>0    ['would', 'never', 'want', 'turn', 'emoti...</td>\n",
       "      <td>INFP</td>\n",
       "    </tr>\n",
       "  </tbody>\n",
       "</table>\n",
       "<p>422686 rows × 2 columns</p>\n",
       "</div>"
      ],
      "text/plain": [
       "                                                     come  pers\n",
       "0                                   0    []\n",
       "dtype: object  INFJ\n",
       "1                                   0    []\n",
       "dtype: object  INFJ\n",
       "2       0    ['enfp', 'intj', 'moments', 'sportscenter...  INFJ\n",
       "3       0    ['life', 'changing', 'experience', 'life'...  INFJ\n",
       "4                  0    ['repeat', 'today']\n",
       "dtype: object  INFJ\n",
       "...                                                   ...   ...\n",
       "422681  0    ['going', 'close', 'facebook', 'months', ...  INFP\n",
       "422682  0    ['seconds', 'mars', 'collections', 'seems...  INFP\n",
       "422683  0    ['seen', 'agree', 'actually', 'think', 'f...  INFP\n",
       "422684  0    ['watched', 'underworld', 'awakening', 'm...  INFP\n",
       "422685  0    ['would', 'never', 'want', 'turn', 'emoti...  INFP\n",
       "\n",
       "[422686 rows x 2 columns]"
      ]
     },
     "execution_count": 10,
     "metadata": {},
     "output_type": "execute_result"
    }
   ],
   "source": [
    "df1\n"
   ]
  },
  {
   "cell_type": "code",
   "execution_count": 17,
   "metadata": {},
   "outputs": [
    {
     "data": {
      "text/plain": [
       "0    ['pewdiepie', 'nazi', 'thing', 'hilarious', 'a...\n",
       "dtype: object"
      ]
     },
     "execution_count": 17,
     "metadata": {},
     "output_type": "execute_result"
    }
   ],
   "source": [
    "df1[\"come\"][5001]"
   ]
  },
  {
   "cell_type": "code",
   "execution_count": 50,
   "metadata": {},
   "outputs": [
    {
     "data": {
      "text/plain": [
       "'enfp and intj moments    sportscenter not top ten plays    pranks'"
      ]
     },
     "execution_count": 50,
     "metadata": {},
     "output_type": "execute_result"
    }
   ],
   "source": [
    "e"
   ]
  },
  {
   "cell_type": "code",
   "execution_count": null,
   "metadata": {},
   "outputs": [],
   "source": []
  }
 ],
 "metadata": {
  "kernelspec": {
   "display_name": "Python 3",
   "language": "python",
   "name": "python3"
  },
  "language_info": {
   "codemirror_mode": {
    "name": "ipython",
    "version": 3
   },
   "file_extension": ".py",
   "mimetype": "text/x-python",
   "name": "python",
   "nbconvert_exporter": "python",
   "pygments_lexer": "ipython3",
   "version": "3.8.3"
  }
 },
 "nbformat": 4,
 "nbformat_minor": 4
}
