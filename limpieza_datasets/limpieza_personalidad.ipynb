{
 "cells": [
  {
   "cell_type": "code",
   "execution_count": 5,
   "metadata": {},
   "outputs": [],
   "source": [
    "import pandas as pd\n",
    "import re\n",
    "from nltk.corpus import stopwords\n",
    "import nltk\n",
    "import re\n",
    "\n",
    "\n",
    "\n",
    "\n",
    "\n"
   ]
  },
  {
   "cell_type": "markdown",
   "metadata": {},
   "source": [
    "**AQUI HARE UNA LIMPIEZA DE TODOS LOS COMENTARIOS DE LA GENTE UTILIZANDO CASI LA MISMA FUNCION QUE UTILICE PARA LIMPIAR LAS RESEÑAS**"
   ]
  },
  {
   "cell_type": "code",
   "execution_count": 107,
   "metadata": {},
   "outputs": [],
   "source": [
    "per = pd.read_csv(\"../datasets/personalidades.csv\")"
   ]
  },
  {
   "cell_type": "code",
   "execution_count": 108,
   "metadata": {},
   "outputs": [],
   "source": [
    "for i in range(len(per[\"posts\"])):\n",
    "    per[\"posts\"][i] = per[\"posts\"][i].split(\"|\")\n",
    "    per[\"posts\"][i] = [x for x in per[\"posts\"][i] if x != \"\"]\n",
    "    \n",
    "    \n",
    "    \n",
    "\n",
    "    \n",
    "               \n",
    "               \n",
    "\n",
    "            \n",
    "               \n",
    "#AQUI DUPLICARE MIS ENTRADAS AÑADIENDO UNA FILA MAS POR COMENTARIO DE CADA USUARIO EN CADA FILA. DUPLICARÉ LOS DATOS\n",
    "#Y SERÁ MÁS UTIL A LA HORA DE PREDECIR AL TENER MÁS DATOS."
   ]
  },
  {
   "cell_type": "code",
   "execution_count": 109,
   "metadata": {},
   "outputs": [
    {
     "data": {
      "text/html": [
       "<div>\n",
       "<style scoped>\n",
       "    .dataframe tbody tr th:only-of-type {\n",
       "        vertical-align: middle;\n",
       "    }\n",
       "\n",
       "    .dataframe tbody tr th {\n",
       "        vertical-align: top;\n",
       "    }\n",
       "\n",
       "    .dataframe thead th {\n",
       "        text-align: right;\n",
       "    }\n",
       "</style>\n",
       "<table border=\"1\" class=\"dataframe\">\n",
       "  <thead>\n",
       "    <tr style=\"text-align: right;\">\n",
       "      <th></th>\n",
       "      <th>come</th>\n",
       "      <th>pers</th>\n",
       "    </tr>\n",
       "  </thead>\n",
       "  <tbody>\n",
       "  </tbody>\n",
       "</table>\n",
       "</div>"
      ],
      "text/plain": [
       "Empty DataFrame\n",
       "Columns: [come, pers]\n",
       "Index: []"
      ]
     },
     "execution_count": 109,
     "metadata": {},
     "output_type": "execute_result"
    }
   ],
   "source": [
    "df = pd.DataFrame({\"come\":[],\"pers\":[]}) #creo un dataframe vacio\n",
    "df"
   ]
  },
  {
   "cell_type": "code",
   "execution_count": 110,
   "metadata": {},
   "outputs": [],
   "source": [
    "#separo cada comentario de cada persona en una fila distinta asi como la personalidad con ese comentario\n",
    "for y in range(len(per)):\n",
    "    df = df.append(pd.DataFrame({\"come\":per[\"posts\"][y],\"pers\":per[\"type\"][y]}), ignore_index=True) \n",
    "                                  \n",
    "    \n",
    "   "
   ]
  },
  {
   "cell_type": "code",
   "execution_count": null,
   "metadata": {},
   "outputs": [],
   "source": []
  },
  {
   "cell_type": "code",
   "execution_count": 111,
   "metadata": {},
   "outputs": [],
   "source": [
    "def preprocessing_sentence(sentence):\n",
    "    stoplist = set(stopwords.words(\"english\"))\n",
    "    #quito url\n",
    "    sentence = re.sub(r'\\w+:\\/{2}[\\d\\w-]+(\\.[\\d\\w-]+)*(?:(?:\\/[^\\s/]*))*', '', sentence)\n",
    "    #quito etiquetas\n",
    "    sentence = re.sub(r'<[^>]*?>', '',sentence)\n",
    "    #quito signos de puntuacion\n",
    "    sentence = re.sub('[^a-zA-Z]', ' ',sentence)\n",
    "    #quito espacios en blanco\n",
    "    sentence= re.sub(r'\\s+', ' ',sentence)\n",
    "    #todo minusculas\n",
    "    sentence = sentence.lower()\n",
    "    #quitar_string_cortos\n",
    "    sentence = sentence.split()\n",
    "    sentence = [x for x in sentence if len(x)>=3]\n",
    "    sentence = \" \".join(sentence)\n",
    "    #quitar palabras irrelevantes que esten en el stopwords\n",
    "    sentence = sentence.split()\n",
    "    sentence = [w for w in sentence if w not in stoplist]\n",
    "    #convierto sentencia a serie pandas, luego a string de lista como el formato con los que entrenó el modelo\n",
    "    #sentence = pd.Series(str(sentence))\n",
    "    \n",
    "  \n",
    "    return sentence"
   ]
  },
  {
   "cell_type": "code",
   "execution_count": 112,
   "metadata": {},
   "outputs": [],
   "source": [
    "df1 = df.copy()"
   ]
  },
  {
   "cell_type": "code",
   "execution_count": 113,
   "metadata": {},
   "outputs": [],
   "source": [
    "for s in range(len(df1[\"come\"])):\n",
    "    df1[\"come\"][s] = preprocessing_sentence(df1[\"come\"][s]) #LIMPIO TODOS LOS COMENTARIOS COMO CON LAS RESEÑAS"
   ]
  },
  {
   "cell_type": "code",
   "execution_count": 115,
   "metadata": {},
   "outputs": [],
   "source": [
    "\n",
    "def sustituir(string,numero):\n",
    "    df1[\"pers\"] = df1[\"pers\"].replace(string,numero)\n",
    "    return df1[\"pers\"].unique()"
   ]
  },
  {
   "cell_type": "code",
   "execution_count": 159,
   "metadata": {},
   "outputs": [
    {
     "data": {
      "text/plain": [
       "array([ 1,  2,  3,  4,  5,  6,  7,  8,  9, 10, 11, 12, 13, 14, 15, 16],\n",
       "      dtype=int64)"
      ]
     },
     "execution_count": 159,
     "metadata": {},
     "output_type": "execute_result"
    }
   ],
   "source": [
    "sustituir(\"ESFJ\",16) #CAMBIO LAS ETIQUETAS POR NUMEROS PARA LAS PREDICCIONES"
   ]
  },
  {
   "cell_type": "code",
   "execution_count": 3,
   "metadata": {},
   "outputs": [],
   "source": [
    "df1.to_csv(\"../datasets/personalidades_limpio.csv\") #EXPORTO EL CSV YA LIMPIO"
   ]
  },
  {
   "cell_type": "code",
   "execution_count": 6,
   "metadata": {},
   "outputs": [],
   "source": []
  },
  {
   "cell_type": "code",
   "execution_count": null,
   "metadata": {},
   "outputs": [],
   "source": []
  },
  {
   "cell_type": "code",
   "execution_count": null,
   "metadata": {},
   "outputs": [],
   "source": []
  },
  {
   "cell_type": "code",
   "execution_count": 125,
   "metadata": {},
   "outputs": [],
   "source": []
  },
  {
   "cell_type": "code",
   "execution_count": null,
   "metadata": {},
   "outputs": [],
   "source": [
    "\n",
    "        \n",
    "        \n",
    "        \n",
    "    \n",
    "        \n",
    "        \n",
    "            \n",
    "        \n",
    "    \n",
    "\n",
    "    \n",
    "        "
   ]
  },
  {
   "cell_type": "code",
   "execution_count": null,
   "metadata": {},
   "outputs": [],
   "source": []
  },
  {
   "cell_type": "code",
   "execution_count": null,
   "metadata": {},
   "outputs": [],
   "source": []
  },
  {
   "cell_type": "code",
   "execution_count": null,
   "metadata": {},
   "outputs": [],
   "source": [
    "\n",
    "        \n",
    "    \n",
    "  \n",
    "\n",
    "    \n",
    "   "
   ]
  },
  {
   "cell_type": "code",
   "execution_count": null,
   "metadata": {},
   "outputs": [],
   "source": []
  },
  {
   "cell_type": "code",
   "execution_count": null,
   "metadata": {},
   "outputs": [],
   "source": []
  },
  {
   "cell_type": "code",
   "execution_count": null,
   "metadata": {},
   "outputs": [],
   "source": []
  },
  {
   "cell_type": "code",
   "execution_count": 41,
   "metadata": {},
   "outputs": [],
   "source": []
  },
  {
   "cell_type": "code",
   "execution_count": null,
   "metadata": {},
   "outputs": [],
   "source": [
    "\n",
    "    "
   ]
  },
  {
   "cell_type": "code",
   "execution_count": null,
   "metadata": {},
   "outputs": [],
   "source": []
  },
  {
   "cell_type": "code",
   "execution_count": null,
   "metadata": {},
   "outputs": [],
   "source": []
  },
  {
   "cell_type": "code",
   "execution_count": null,
   "metadata": {},
   "outputs": [],
   "source": []
  },
  {
   "cell_type": "code",
   "execution_count": null,
   "metadata": {},
   "outputs": [],
   "source": []
  }
 ],
 "metadata": {
  "kernelspec": {
   "display_name": "Python 3",
   "language": "python",
   "name": "python3"
  },
  "language_info": {
   "codemirror_mode": {
    "name": "ipython",
    "version": 3
   },
   "file_extension": ".py",
   "mimetype": "text/x-python",
   "name": "python",
   "nbconvert_exporter": "python",
   "pygments_lexer": "ipython3",
   "version": "3.8.3"
  }
 },
 "nbformat": 4,
 "nbformat_minor": 4
}
