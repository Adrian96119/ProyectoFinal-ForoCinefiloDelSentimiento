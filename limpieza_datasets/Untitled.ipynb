{
 "cells": [
  {
   "cell_type": "code",
   "execution_count": 1,
   "metadata": {},
   "outputs": [],
   "source": [
    "from pymongo import MongoClient\n",
    "from bson.json_util import loads, dumps, ObjectId"
   ]
  },
  {
   "cell_type": "code",
   "execution_count": 2,
   "metadata": {},
   "outputs": [],
   "source": [
    "client = MongoClient()"
   ]
  },
  {
   "cell_type": "code",
   "execution_count": 3,
   "metadata": {},
   "outputs": [],
   "source": [
    "db = client.get_database(\"ProyectoFinal\")"
   ]
  },
  {
   "cell_type": "code",
   "execution_count": 4,
   "metadata": {},
   "outputs": [
    {
     "data": {
      "text/plain": [
       "Database(MongoClient(host=['localhost:27017'], document_class=dict, tz_aware=False, connect=True), 'ProyectoFinal')"
      ]
     },
     "execution_count": 4,
     "metadata": {},
     "output_type": "execute_result"
    }
   ],
   "source": [
    "db"
   ]
  },
  {
   "cell_type": "code",
   "execution_count": 23,
   "metadata": {},
   "outputs": [],
   "source": [
    "reseñas = db.reseñas.find()"
   ]
  },
  {
   "cell_type": "code",
   "execution_count": 24,
   "metadata": {},
   "outputs": [],
   "source": [
    "us = list(reseñas)\n"
   ]
  },
  {
   "cell_type": "code",
   "execution_count": 25,
   "metadata": {},
   "outputs": [
    {
     "data": {
      "text/plain": [
       "[{'_id': ObjectId('5fd8c062eeb7479ab0b47b69'),\n",
       "  'pelicula': 'CATWOMAN',\n",
       "  'usuario': 'katy',\n",
       "  'calificacion': ':(',\n",
       "  'reseña': \"A horrible movie. Full of cliches, stupid dialogue, badly choreographed fights and unintentionally hilarious acting. Halle Berry deserved that Golden Raspberry, I'd take Batman and Robin any day.\"},\n",
       " {'_id': ObjectId('5fd8c300eeb7479ab0b47b6b'),\n",
       "  'pelicula': 'THE GODFATHER',\n",
       "  'usuario': 'jesusin',\n",
       "  'calificacion': ':)',\n",
       "  'reseña': \"Overflowing with life, rich with all the grand emotions and vital juices of existence, up to and including blood. And its deaths, like that of Hotspur in Henry IV, Part I, continue to shock no matter how often we've watched them coming. [16 Mar 1997, Calendar, p.7]\"},\n",
       " {'_id': ObjectId('5fd934240046e3751456f9fc'),\n",
       "  'pelicula': 'abierto hasta el amanecer',\n",
       "  'usuario': 'satanas',\n",
       "  'calificacion': ':)',\n",
       "  'reseña': 'really enjoyed the first half then it took a 180° turn but i’m not complaining'},\n",
       " {'_id': ObjectId('5fd9db67ab87026fe81daf44'),\n",
       "  'pelicula': 'CATWOMAN',\n",
       "  'usuario': 'rasputin',\n",
       "  'calificacion': ':(',\n",
       "  'reseña': \"Bereft of excitement and with action scenes similar to those we've seen a dozen times before, this is a very poor effort indeed\"},\n",
       " {'_id': ObjectId('5fda1537ed4b265007766100'),\n",
       "  'pelicula': 'CATWOMAN',\n",
       "  'usuario': 'jesusin',\n",
       "  'calificacion': ':(',\n",
       "  'reseña': \"Relentlessly gaudy and in love with its PG-13 approximation of kink, Catwoman is essentially an excuse to pose Berry in ever-skimpier outfits. It's all too pre-fab to register as sexy, though, and even the fight scenes look like fashion shoots.\"}]"
      ]
     },
     "execution_count": 25,
     "metadata": {},
     "output_type": "execute_result"
    }
   ],
   "source": []
  },
  {
   "cell_type": "code",
   "execution_count": 52,
   "metadata": {},
   "outputs": [],
   "source": [
    "reseña_final = \"\".join(caca)"
   ]
  },
  {
   "cell_type": "code",
   "execution_count": 53,
   "metadata": {},
   "outputs": [
    {
     "data": {
      "text/plain": [
       "\"A horrible movie. Full of cliches, stupid dialogue, badly choreographed fights and unintentionally hilarious acting. Halle Berry deserved that Golden Raspberry, I'd take Batman and Robin any day. :( \""
      ]
     },
     "execution_count": 53,
     "metadata": {},
     "output_type": "execute_result"
    }
   ],
   "source": [
    "reseña_final"
   ]
  },
  {
   "cell_type": "code",
   "execution_count": 189,
   "metadata": {},
   "outputs": [],
   "source": [
    "users = db.users.find()"
   ]
  },
  {
   "cell_type": "code",
   "execution_count": 200,
   "metadata": {},
   "outputs": [],
   "source": [
    "ls = list(users)\n",
    "token = \"5fd6a39c1984e551de4b39c9\"\n",
    "\n"
   ]
  },
  {
   "cell_type": "code",
   "execution_count": 201,
   "metadata": {},
   "outputs": [],
   "source": [
    "\n",
    "token = ObjectId(token)"
   ]
  },
  {
   "cell_type": "code",
   "execution_count": null,
   "metadata": {},
   "outputs": [],
   "source": [
    "\n"
   ]
  },
  {
   "cell_type": "code",
   "execution_count": 204,
   "metadata": {},
   "outputs": [
    {
     "name": "stdout",
     "output_type": "stream",
     "text": [
      "nop!!!!!!!!!!!!!!\n"
     ]
    }
   ],
   "source": [
    "\n",
    "if token in range(len(e.values())):\n",
    "    print(\"yes!!!!!!!!!!\")\n",
    "else:\n",
    "    print(\"nop!!!!!!!!!!!!!!\")"
   ]
  },
  {
   "cell_type": "code",
   "execution_count": null,
   "metadata": {},
   "outputs": [],
   "source": []
  },
  {
   "cell_type": "code",
   "execution_count": 205,
   "metadata": {},
   "outputs": [],
   "source": [
    "c = [i for g in ls for k,i in g.items()]\n",
    "\n",
    "        \n",
    "    \n",
    "\n"
   ]
  },
  {
   "cell_type": "code",
   "execution_count": 206,
   "metadata": {},
   "outputs": [
    {
     "name": "stdout",
     "output_type": "stream",
     "text": [
      "que no!!!!\n"
     ]
    }
   ],
   "source": [
    "if token in c:\n",
    "    print(\"que si!!!!\")\n",
    "else:\n",
    "    print(\"que no!!!!\")\n",
    "   \n",
    "  \n",
    "    \n",
    "    \n",
    "   \n",
    "     \n",
    "   \n",
    "        \n",
    "  "
   ]
  },
  {
   "cell_type": "code",
   "execution_count": null,
   "metadata": {},
   "outputs": [],
   "source": []
  }
 ],
 "metadata": {
  "kernelspec": {
   "display_name": "Python 3",
   "language": "python",
   "name": "python3"
  },
  "language_info": {
   "codemirror_mode": {
    "name": "ipython",
    "version": 3
   },
   "file_extension": ".py",
   "mimetype": "text/x-python",
   "name": "python",
   "nbconvert_exporter": "python",
   "pygments_lexer": "ipython3",
   "version": "3.8.3"
  }
 },
 "nbformat": 4,
 "nbformat_minor": 4
}
