{
 "cells": [
  {
   "cell_type": "code",
   "execution_count": 27,
   "metadata": {},
   "outputs": [],
   "source": [
    "import pandas as pd\n",
    "import re\n",
    "import matplotlib.pyplot as plt\n",
    "from nltk.corpus import stopwords\n",
    "import nltk\n",
    "import spacy\n",
    "import en_core_web_sm "
   ]
  },
  {
   "cell_type": "code",
   "execution_count": 28,
   "metadata": {},
   "outputs": [],
   "source": [
    "movies = pd.read_csv(\"datasets/movies.csv\") #cargo el data"
   ]
  },
  {
   "cell_type": "code",
   "execution_count": 29,
   "metadata": {},
   "outputs": [
    {
     "name": "stdout",
     "output_type": "stream",
     "text": [
      "<class 'pandas.core.frame.DataFrame'>\n",
      "RangeIndex: 50000 entries, 0 to 49999\n",
      "Data columns (total 2 columns):\n",
      " #   Column     Non-Null Count  Dtype \n",
      "---  ------     --------------  ----- \n",
      " 0   review     50000 non-null  object\n",
      " 1   sentiment  50000 non-null  object\n",
      "dtypes: object(2)\n",
      "memory usage: 781.4+ KB\n"
     ]
    }
   ],
   "source": [
    "movies.info() #compruebo los tipos de columna y el numero de columnas, así como el número de filas. tenemos 50000 entradas."
   ]
  },
  {
   "cell_type": "code",
   "execution_count": 30,
   "metadata": {},
   "outputs": [
    {
     "data": {
      "text/plain": [
       "review       0\n",
       "sentiment    0\n",
       "dtype: int64"
      ]
     },
     "execution_count": 30,
     "metadata": {},
     "output_type": "execute_result"
    }
   ],
   "source": [
    "movies.isnull().sum() #compruebo valores perdidos, no hay ninguno"
   ]
  },
  {
   "cell_type": "code",
   "execution_count": 31,
   "metadata": {},
   "outputs": [
    {
     "data": {
      "text/plain": [
       "array(['positive', 'negative'], dtype=object)"
      ]
     },
     "execution_count": 31,
     "metadata": {},
     "output_type": "execute_result"
    }
   ],
   "source": [
    "movies[\"sentiment\"].unique() #compruebo valores unicos de la columna sentiment."
   ]
  },
  {
   "cell_type": "code",
   "execution_count": 32,
   "metadata": {},
   "outputs": [
    {
     "data": {
      "image/png": "[encoded data removed]",
      "text/plain": [
       "<Figure size 432x288 with 1 Axes>"
      ]
     },
     "metadata": {
      "needs_background": "light"
     },
     "output_type": "display_data"
    }
   ],
   "source": [
    "#si hacemos un histograma de la columna, podemos ver cuantas reseñas de cada tipo hay en el dataset.\n",
    "conteo_sent = movies[\"sentiment\"].value_counts()\n",
    "plt.plot(conteo_sent); #y vemos que hay el mismo numero de reseñas positivas como negativas, asique perfecto!"
   ]
  },
  {
   "cell_type": "markdown",
   "metadata": {},
   "source": [
    "Si cojo una fila cualquiera, puedo apreciar que la reseña esta llena de signos de puntuación, etiquetas html, caracteres\n",
    "especiales, contrabarras, números,etc. Debemos hacer un proceso de eliminación de ruido ya que todos esos signos o caracteres\n",
    "no nos van a beneficiar en nada a la hora de que el ordenador pueda aprender si contiene datos irrelevantes o que no tienen\n",
    "sentido, ya que solo entenderá palabras cuando pasemos al proceso de tokenización."
   ]
  },
  {
   "cell_type": "code",
   "execution_count": 33,
   "metadata": {},
   "outputs": [
    {
     "data": {
      "text/plain": [
       "'Taut and organically gripping, Edward Dmytryk\\'s Crossfire is a distinctive suspense thriller, an unlikely \"message\" movie using the look and devices of the noir cycle.<br /><br />Bivouacked in Washington, DC, a company of soldiers cope with their restlessness by hanging out in bars. Three of them end up at a stranger\\'s apartment where Robert Ryan, drunk and belligerent, beats their host (Sam Levene) to death because he happens to be Jewish. Police detective Robert Young investigates with the help of Robert Mitchum, who\\'s assigned to Ryan\\'s outfit. Suspicion falls on the second of the three (George Cooper), who has vanished. Ryan slays the third buddy (Steve Brodie) to insure his silence before Young closes in.<br /><br />Abetted by a superior script by John Paxton, Dmytryk draws precise performances from his three starring Bobs. Ryan, naturally, does his prototypical Angry White Male (and to the hilt), while Mitchum underplays with his characteristic alert nonchalance (his role, however, is not central); Young may never have been better. Gloria Grahame gives her first fully-fledged rendition of the smart-mouthed, vulnerable tramp, and, as a sad sack who\\'s leeched into her life, Paul Kelly haunts us in a small, peripheral role that he makes memorable.<br /><br />The politically engaged Dmytryk perhaps inevitably succumbs to sermonizing, but it\\'s pretty much confined to Young\\'s reminiscence of how his Irish grandfather died at the hands of bigots a century earlier (thus, incidentally, stretching chronology to the limit). At least there\\'s no attempt to render an explanation, however glib, of why Ryan hates Jews (and hillbillies and...).<br /><br />Curiously, Crossfire survives even the major change wrought upon it -- the novel it\\'s based on (Richard Brooks\\' The Brick Foxhole) dealt with a gay-bashing murder. But homosexuality in 1947 was still Beyond The Pale. News of the Holocaust had, however, begun to emerge from the ashes of Europe, so Hollywood felt emboldened to register its protest against anti-Semitism (the studios always quaked at the prospect of offending any potential ticket buyer).<br /><br />But while the change from homophobia to anti-Semitism works in general, the specifics don\\'t fit so smoothly. The victim\\'s chatting up a lonesome, drunk young soldier then inviting him back home looks odd, even though (or especially since) there\\'s a girlfriend in tow. It raises the question whether this scenario was retained inadvertently or left in as a discreet tip-off to the original engine generating Ryan\\'s murderous rage.'"
      ]
     },
     "execution_count": 33,
     "metadata": {},
     "output_type": "execute_result"
    }
   ],
   "source": [
    "movies[\"review\"][30]\n"
   ]
  },
  {
   "cell_type": "code",
   "execution_count": 34,
   "metadata": {},
   "outputs": [],
   "source": [
    "#voy a despejar de etiquetas html cada una de las reseñas de la columna review.\n",
    "#para ello creo una funcion que elimine las etiquetas html de la columna que desee, en este caso la de review.Utilizaré la libreria re para ello.\n",
    "#nos devolvera la fila con la que estamos comprobando si se van realizando bien los cambios."
   ]
  },
  {
   "cell_type": "code",
   "execution_count": 35,
   "metadata": {},
   "outputs": [],
   "source": [
    "def quitar_etiquetas(df,column):\n",
    "    for i in range(len(df[column])):\n",
    "         df[column][i] = re.sub(r'<[^>]*?>', '',df[column][i])\n",
    "    return df[column][30]\n",
    "    \n",
    "    \n",
    "    \n",
    "        "
   ]
  },
  {
   "cell_type": "code",
   "execution_count": 36,
   "metadata": {
    "scrolled": true
   },
   "outputs": [
    {
     "data": {
      "text/plain": [
       "'Taut and organically gripping, Edward Dmytryk\\'s Crossfire is a distinctive suspense thriller, an unlikely \"message\" movie using the look and devices of the noir cycle.Bivouacked in Washington, DC, a company of soldiers cope with their restlessness by hanging out in bars. Three of them end up at a stranger\\'s apartment where Robert Ryan, drunk and belligerent, beats their host (Sam Levene) to death because he happens to be Jewish. Police detective Robert Young investigates with the help of Robert Mitchum, who\\'s assigned to Ryan\\'s outfit. Suspicion falls on the second of the three (George Cooper), who has vanished. Ryan slays the third buddy (Steve Brodie) to insure his silence before Young closes in.Abetted by a superior script by John Paxton, Dmytryk draws precise performances from his three starring Bobs. Ryan, naturally, does his prototypical Angry White Male (and to the hilt), while Mitchum underplays with his characteristic alert nonchalance (his role, however, is not central); Young may never have been better. Gloria Grahame gives her first fully-fledged rendition of the smart-mouthed, vulnerable tramp, and, as a sad sack who\\'s leeched into her life, Paul Kelly haunts us in a small, peripheral role that he makes memorable.The politically engaged Dmytryk perhaps inevitably succumbs to sermonizing, but it\\'s pretty much confined to Young\\'s reminiscence of how his Irish grandfather died at the hands of bigots a century earlier (thus, incidentally, stretching chronology to the limit). At least there\\'s no attempt to render an explanation, however glib, of why Ryan hates Jews (and hillbillies and...).Curiously, Crossfire survives even the major change wrought upon it -- the novel it\\'s based on (Richard Brooks\\' The Brick Foxhole) dealt with a gay-bashing murder. But homosexuality in 1947 was still Beyond The Pale. News of the Holocaust had, however, begun to emerge from the ashes of Europe, so Hollywood felt emboldened to register its protest against anti-Semitism (the studios always quaked at the prospect of offending any potential ticket buyer).But while the change from homophobia to anti-Semitism works in general, the specifics don\\'t fit so smoothly. The victim\\'s chatting up a lonesome, drunk young soldier then inviting him back home looks odd, even though (or especially since) there\\'s a girlfriend in tow. It raises the question whether this scenario was retained inadvertently or left in as a discreet tip-off to the original engine generating Ryan\\'s murderous rage.'"
      ]
     },
     "execution_count": 36,
     "metadata": {},
     "output_type": "execute_result"
    }
   ],
   "source": [
    "\n",
    "quitar_etiquetas(movies,\"review\")#comprobamos efectivamente que en la segunda que antes había etiquetas, ahora ya no están.\n"
   ]
  },
  {
   "cell_type": "code",
   "execution_count": null,
   "metadata": {},
   "outputs": [],
   "source": []
  },
  {
   "cell_type": "code",
   "execution_count": 37,
   "metadata": {},
   "outputs": [],
   "source": [
    "#vamos a eliminar los signos de puntuacion y los numeros.\n",
    "def quitar_signos_numeros(df,column):\n",
    "    for i in range(len(df[column])):\n",
    "         df[column][i] = re.sub('[^a-zA-Z]', ' ', df[column][i])\n",
    "    return df[column][30] #pedimos que nos devuelva una fila cualquiera para hacer la comprobación\n"
   ]
  },
  {
   "cell_type": "code",
   "execution_count": 38,
   "metadata": {},
   "outputs": [
    {
     "data": {
      "text/plain": [
       "'Taut and organically gripping  Edward Dmytryk s Crossfire is a distinctive suspense thriller  an unlikely  message  movie using the look and devices of the noir cycle Bivouacked in Washington  DC  a company of soldiers cope with their restlessness by hanging out in bars  Three of them end up at a stranger s apartment where Robert Ryan  drunk and belligerent  beats their host  Sam Levene  to death because he happens to be Jewish  Police detective Robert Young investigates with the help of Robert Mitchum  who s assigned to Ryan s outfit  Suspicion falls on the second of the three  George Cooper   who has vanished  Ryan slays the third buddy  Steve Brodie  to insure his silence before Young closes in Abetted by a superior script by John Paxton  Dmytryk draws precise performances from his three starring Bobs  Ryan  naturally  does his prototypical Angry White Male  and to the hilt   while Mitchum underplays with his characteristic alert nonchalance  his role  however  is not central   Young may never have been better  Gloria Grahame gives her first fully fledged rendition of the smart mouthed  vulnerable tramp  and  as a sad sack who s leeched into her life  Paul Kelly haunts us in a small  peripheral role that he makes memorable The politically engaged Dmytryk perhaps inevitably succumbs to sermonizing  but it s pretty much confined to Young s reminiscence of how his Irish grandfather died at the hands of bigots a century earlier  thus  incidentally  stretching chronology to the limit   At least there s no attempt to render an explanation  however glib  of why Ryan hates Jews  and hillbillies and     Curiously  Crossfire survives even the major change wrought upon it    the novel it s based on  Richard Brooks  The Brick Foxhole  dealt with a gay bashing murder  But homosexuality in      was still Beyond The Pale  News of the Holocaust had  however  begun to emerge from the ashes of Europe  so Hollywood felt emboldened to register its protest against anti Semitism  the studios always quaked at the prospect of offending any potential ticket buyer  But while the change from homophobia to anti Semitism works in general  the specifics don t fit so smoothly  The victim s chatting up a lonesome  drunk young soldier then inviting him back home looks odd  even though  or especially since  there s a girlfriend in tow  It raises the question whether this scenario was retained inadvertently or left in as a discreet tip off to the original engine generating Ryan s murderous rage '"
      ]
     },
     "execution_count": 38,
     "metadata": {},
     "output_type": "execute_result"
    }
   ],
   "source": [
    "quitar_signos_numeros(movies,\"review\")\n",
    "#parece que ha funcionado, y comprobamos que efectivamente, no hay signos de puntuación, números, caracteres especiales,\n",
    "#etiquetas html... Si comprobamos las demás filas, tambíen se puede ver el cambio."
   ]
  },
  {
   "cell_type": "code",
   "execution_count": 39,
   "metadata": {},
   "outputs": [],
   "source": [
    "#eliminamos multiples espacios\n",
    "def quitar_espacios(df,column):\n",
    "    for i in range(len(df[column])):\n",
    "         df[column][i] = re.sub(r'\\s+', ' ',df[column][i])\n",
    "    return df[column][30]\n"
   ]
  },
  {
   "cell_type": "code",
   "execution_count": 40,
   "metadata": {},
   "outputs": [
    {
     "data": {
      "text/plain": [
       "'Taut and organically gripping Edward Dmytryk s Crossfire is a distinctive suspense thriller an unlikely message movie using the look and devices of the noir cycle Bivouacked in Washington DC a company of soldiers cope with their restlessness by hanging out in bars Three of them end up at a stranger s apartment where Robert Ryan drunk and belligerent beats their host Sam Levene to death because he happens to be Jewish Police detective Robert Young investigates with the help of Robert Mitchum who s assigned to Ryan s outfit Suspicion falls on the second of the three George Cooper who has vanished Ryan slays the third buddy Steve Brodie to insure his silence before Young closes in Abetted by a superior script by John Paxton Dmytryk draws precise performances from his three starring Bobs Ryan naturally does his prototypical Angry White Male and to the hilt while Mitchum underplays with his characteristic alert nonchalance his role however is not central Young may never have been better Gloria Grahame gives her first fully fledged rendition of the smart mouthed vulnerable tramp and as a sad sack who s leeched into her life Paul Kelly haunts us in a small peripheral role that he makes memorable The politically engaged Dmytryk perhaps inevitably succumbs to sermonizing but it s pretty much confined to Young s reminiscence of how his Irish grandfather died at the hands of bigots a century earlier thus incidentally stretching chronology to the limit At least there s no attempt to render an explanation however glib of why Ryan hates Jews and hillbillies and Curiously Crossfire survives even the major change wrought upon it the novel it s based on Richard Brooks The Brick Foxhole dealt with a gay bashing murder But homosexuality in was still Beyond The Pale News of the Holocaust had however begun to emerge from the ashes of Europe so Hollywood felt emboldened to register its protest against anti Semitism the studios always quaked at the prospect of offending any potential ticket buyer But while the change from homophobia to anti Semitism works in general the specifics don t fit so smoothly The victim s chatting up a lonesome drunk young soldier then inviting him back home looks odd even though or especially since there s a girlfriend in tow It raises the question whether this scenario was retained inadvertently or left in as a discreet tip off to the original engine generating Ryan s murderous rage '"
      ]
     },
     "execution_count": 40,
     "metadata": {},
     "output_type": "execute_result"
    }
   ],
   "source": [
    "quitar_espacios(movies,\"review\") #vemos que no hay espacios duplicados"
   ]
  },
  {
   "cell_type": "code",
   "execution_count": 41,
   "metadata": {},
   "outputs": [],
   "source": [
    "def todo_minusculas(df,column):\n",
    "    for i in range(len(df[column])):\n",
    "         df[column][i] = df[column][i].lower()\n",
    "    return df[column][30]"
   ]
  },
  {
   "cell_type": "code",
   "execution_count": 42,
   "metadata": {},
   "outputs": [
    {
     "data": {
      "text/plain": [
       "'taut and organically gripping edward dmytryk s crossfire is a distinctive suspense thriller an unlikely message movie using the look and devices of the noir cycle bivouacked in washington dc a company of soldiers cope with their restlessness by hanging out in bars three of them end up at a stranger s apartment where robert ryan drunk and belligerent beats their host sam levene to death because he happens to be jewish police detective robert young investigates with the help of robert mitchum who s assigned to ryan s outfit suspicion falls on the second of the three george cooper who has vanished ryan slays the third buddy steve brodie to insure his silence before young closes in abetted by a superior script by john paxton dmytryk draws precise performances from his three starring bobs ryan naturally does his prototypical angry white male and to the hilt while mitchum underplays with his characteristic alert nonchalance his role however is not central young may never have been better gloria grahame gives her first fully fledged rendition of the smart mouthed vulnerable tramp and as a sad sack who s leeched into her life paul kelly haunts us in a small peripheral role that he makes memorable the politically engaged dmytryk perhaps inevitably succumbs to sermonizing but it s pretty much confined to young s reminiscence of how his irish grandfather died at the hands of bigots a century earlier thus incidentally stretching chronology to the limit at least there s no attempt to render an explanation however glib of why ryan hates jews and hillbillies and curiously crossfire survives even the major change wrought upon it the novel it s based on richard brooks the brick foxhole dealt with a gay bashing murder but homosexuality in was still beyond the pale news of the holocaust had however begun to emerge from the ashes of europe so hollywood felt emboldened to register its protest against anti semitism the studios always quaked at the prospect of offending any potential ticket buyer but while the change from homophobia to anti semitism works in general the specifics don t fit so smoothly the victim s chatting up a lonesome drunk young soldier then inviting him back home looks odd even though or especially since there s a girlfriend in tow it raises the question whether this scenario was retained inadvertently or left in as a discreet tip off to the original engine generating ryan s murderous rage '"
      ]
     },
     "execution_count": 42,
     "metadata": {},
     "output_type": "execute_result"
    }
   ],
   "source": [
    "todo_minusculas(movies,\"review\")\n",
    "    \n"
   ]
  },
  {
   "cell_type": "code",
   "execution_count": 43,
   "metadata": {},
   "outputs": [],
   "source": [
    "#todavía hay strings que no nos interesan, como las preposiciones, strings de 2 o menos caracteres que no nos son relevantes\n",
    "#en el texto, pero debemos conservar strings de tres, ya que podría haber palabras de tres letras que sean importantes."
   ]
  },
  {
   "cell_type": "code",
   "execution_count": 44,
   "metadata": {},
   "outputs": [],
   "source": [
    "def quitar_string_cortos(df,column):   \n",
    "    for i in range(len(df[column])):\n",
    "        df[column][i] = df[column][i].split()\n",
    "        df[column][i]= [x for x in df[column][i] if len(x)>=3]\n",
    "        df[column][i]= \" \".join(df[column][i])\n",
    "    return df[column][30]\n",
    "\n",
    "\n"
   ]
  },
  {
   "cell_type": "code",
   "execution_count": 45,
   "metadata": {},
   "outputs": [
    {
     "data": {
      "text/plain": [
       "'taut and organically gripping edward dmytryk crossfire distinctive suspense thriller unlikely message movie using the look and devices the noir cycle bivouacked washington company soldiers cope with their restlessness hanging out bars three them end stranger apartment where robert ryan drunk and belligerent beats their host sam levene death because happens jewish police detective robert young investigates with the help robert mitchum who assigned ryan outfit suspicion falls the second the three george cooper who has vanished ryan slays the third buddy steve brodie insure his silence before young closes abetted superior script john paxton dmytryk draws precise performances from his three starring bobs ryan naturally does his prototypical angry white male and the hilt while mitchum underplays with his characteristic alert nonchalance his role however not central young may never have been better gloria grahame gives her first fully fledged rendition the smart mouthed vulnerable tramp and sad sack who leeched into her life paul kelly haunts small peripheral role that makes memorable the politically engaged dmytryk perhaps inevitably succumbs sermonizing but pretty much confined young reminiscence how his irish grandfather died the hands bigots century earlier thus incidentally stretching chronology the limit least there attempt render explanation however glib why ryan hates jews and hillbillies and curiously crossfire survives even the major change wrought upon the novel based richard brooks the brick foxhole dealt with gay bashing murder but homosexuality was still beyond the pale news the holocaust had however begun emerge from the ashes europe hollywood felt emboldened register its protest against anti semitism the studios always quaked the prospect offending any potential ticket buyer but while the change from homophobia anti semitism works general the specifics don fit smoothly the victim chatting lonesome drunk young soldier then inviting him back home looks odd even though especially since there girlfriend tow raises the question whether this scenario was retained inadvertently left discreet tip off the original engine generating ryan murderous rage'"
      ]
     },
     "execution_count": 45,
     "metadata": {},
     "output_type": "execute_result"
    }
   ],
   "source": [
    "quitar_string_cortos(movies,\"review\") #compruebo que ya no hay string de menos de tres caracteres."
   ]
  },
  {
   "cell_type": "markdown",
   "metadata": {},
   "source": [
    "A continuacion, de la libreria NLTK, podemos extraer una lista de palabras que se considerarían irrelevantes y que podemos eliminar de nuestras reseñas."
   ]
  },
  {
   "cell_type": "code",
   "execution_count": 46,
   "metadata": {},
   "outputs": [],
   "source": [
    "\n",
    "stoplist = set(stopwords.words(\"english\"))\n",
    "def palabras_irrelevantes(df,column):\n",
    "    for w in range(len(df[column])):\n",
    "        df[column][w] = df[column][w].split()\n",
    "        df[column][w]= [w for w in df[column][w] if w not in stoplist]\n",
    "    return df[column][30]\n",
    "\n",
    "        \n",
    "#con esto además de eliminar las palabras irrelevantes, tokenizamos las oraciones haciendo de las frases una lista con \n",
    "#todas sus palabras.\n",
    "\n"
   ]
  },
  {
   "cell_type": "code",
   "execution_count": 47,
   "metadata": {},
   "outputs": [
    {
     "data": {
      "text/plain": [
       "['taut',\n",
       " 'organically',\n",
       " 'gripping',\n",
       " 'edward',\n",
       " 'dmytryk',\n",
       " 'crossfire',\n",
       " 'distinctive',\n",
       " 'suspense',\n",
       " 'thriller',\n",
       " 'unlikely',\n",
       " 'message',\n",
       " 'movie',\n",
       " 'using',\n",
       " 'look',\n",
       " 'devices',\n",
       " 'noir',\n",
       " 'cycle',\n",
       " 'bivouacked',\n",
       " 'washington',\n",
       " 'company',\n",
       " 'soldiers',\n",
       " 'cope',\n",
       " 'restlessness',\n",
       " 'hanging',\n",
       " 'bars',\n",
       " 'three',\n",
       " 'end',\n",
       " 'stranger',\n",
       " 'apartment',\n",
       " 'robert',\n",
       " 'ryan',\n",
       " 'drunk',\n",
       " 'belligerent',\n",
       " 'beats',\n",
       " 'host',\n",
       " 'sam',\n",
       " 'levene',\n",
       " 'death',\n",
       " 'happens',\n",
       " 'jewish',\n",
       " 'police',\n",
       " 'detective',\n",
       " 'robert',\n",
       " 'young',\n",
       " 'investigates',\n",
       " 'help',\n",
       " 'robert',\n",
       " 'mitchum',\n",
       " 'assigned',\n",
       " 'ryan',\n",
       " 'outfit',\n",
       " 'suspicion',\n",
       " 'falls',\n",
       " 'second',\n",
       " 'three',\n",
       " 'george',\n",
       " 'cooper',\n",
       " 'vanished',\n",
       " 'ryan',\n",
       " 'slays',\n",
       " 'third',\n",
       " 'buddy',\n",
       " 'steve',\n",
       " 'brodie',\n",
       " 'insure',\n",
       " 'silence',\n",
       " 'young',\n",
       " 'closes',\n",
       " 'abetted',\n",
       " 'superior',\n",
       " 'script',\n",
       " 'john',\n",
       " 'paxton',\n",
       " 'dmytryk',\n",
       " 'draws',\n",
       " 'precise',\n",
       " 'performances',\n",
       " 'three',\n",
       " 'starring',\n",
       " 'bobs',\n",
       " 'ryan',\n",
       " 'naturally',\n",
       " 'prototypical',\n",
       " 'angry',\n",
       " 'white',\n",
       " 'male',\n",
       " 'hilt',\n",
       " 'mitchum',\n",
       " 'underplays',\n",
       " 'characteristic',\n",
       " 'alert',\n",
       " 'nonchalance',\n",
       " 'role',\n",
       " 'however',\n",
       " 'central',\n",
       " 'young',\n",
       " 'may',\n",
       " 'never',\n",
       " 'better',\n",
       " 'gloria',\n",
       " 'grahame',\n",
       " 'gives',\n",
       " 'first',\n",
       " 'fully',\n",
       " 'fledged',\n",
       " 'rendition',\n",
       " 'smart',\n",
       " 'mouthed',\n",
       " 'vulnerable',\n",
       " 'tramp',\n",
       " 'sad',\n",
       " 'sack',\n",
       " 'leeched',\n",
       " 'life',\n",
       " 'paul',\n",
       " 'kelly',\n",
       " 'haunts',\n",
       " 'small',\n",
       " 'peripheral',\n",
       " 'role',\n",
       " 'makes',\n",
       " 'memorable',\n",
       " 'politically',\n",
       " 'engaged',\n",
       " 'dmytryk',\n",
       " 'perhaps',\n",
       " 'inevitably',\n",
       " 'succumbs',\n",
       " 'sermonizing',\n",
       " 'pretty',\n",
       " 'much',\n",
       " 'confined',\n",
       " 'young',\n",
       " 'reminiscence',\n",
       " 'irish',\n",
       " 'grandfather',\n",
       " 'died',\n",
       " 'hands',\n",
       " 'bigots',\n",
       " 'century',\n",
       " 'earlier',\n",
       " 'thus',\n",
       " 'incidentally',\n",
       " 'stretching',\n",
       " 'chronology',\n",
       " 'limit',\n",
       " 'least',\n",
       " 'attempt',\n",
       " 'render',\n",
       " 'explanation',\n",
       " 'however',\n",
       " 'glib',\n",
       " 'ryan',\n",
       " 'hates',\n",
       " 'jews',\n",
       " 'hillbillies',\n",
       " 'curiously',\n",
       " 'crossfire',\n",
       " 'survives',\n",
       " 'even',\n",
       " 'major',\n",
       " 'change',\n",
       " 'wrought',\n",
       " 'upon',\n",
       " 'novel',\n",
       " 'based',\n",
       " 'richard',\n",
       " 'brooks',\n",
       " 'brick',\n",
       " 'foxhole',\n",
       " 'dealt',\n",
       " 'gay',\n",
       " 'bashing',\n",
       " 'murder',\n",
       " 'homosexuality',\n",
       " 'still',\n",
       " 'beyond',\n",
       " 'pale',\n",
       " 'news',\n",
       " 'holocaust',\n",
       " 'however',\n",
       " 'begun',\n",
       " 'emerge',\n",
       " 'ashes',\n",
       " 'europe',\n",
       " 'hollywood',\n",
       " 'felt',\n",
       " 'emboldened',\n",
       " 'register',\n",
       " 'protest',\n",
       " 'anti',\n",
       " 'semitism',\n",
       " 'studios',\n",
       " 'always',\n",
       " 'quaked',\n",
       " 'prospect',\n",
       " 'offending',\n",
       " 'potential',\n",
       " 'ticket',\n",
       " 'buyer',\n",
       " 'change',\n",
       " 'homophobia',\n",
       " 'anti',\n",
       " 'semitism',\n",
       " 'works',\n",
       " 'general',\n",
       " 'specifics',\n",
       " 'fit',\n",
       " 'smoothly',\n",
       " 'victim',\n",
       " 'chatting',\n",
       " 'lonesome',\n",
       " 'drunk',\n",
       " 'young',\n",
       " 'soldier',\n",
       " 'inviting',\n",
       " 'back',\n",
       " 'home',\n",
       " 'looks',\n",
       " 'odd',\n",
       " 'even',\n",
       " 'though',\n",
       " 'especially',\n",
       " 'since',\n",
       " 'girlfriend',\n",
       " 'tow',\n",
       " 'raises',\n",
       " 'question',\n",
       " 'whether',\n",
       " 'scenario',\n",
       " 'retained',\n",
       " 'inadvertently',\n",
       " 'left',\n",
       " 'discreet',\n",
       " 'tip',\n",
       " 'original',\n",
       " 'engine',\n",
       " 'generating',\n",
       " 'ryan',\n",
       " 'murderous',\n",
       " 'rage']"
      ]
     },
     "execution_count": 47,
     "metadata": {},
     "output_type": "execute_result"
    }
   ],
   "source": [
    "palabras_irrelevantes(movies,\"review\")"
   ]
  },
  {
   "cell_type": "markdown",
   "metadata": {},
   "source": [
    "HEMOS DESPEJADO BASTANTE NUESTRAS LISTAS DE PALABRAS EN CADA RESEÑA, PERO AHORA, PODEMOS APLICAR UNA TECNICA QUE NOS \n",
    "REDUCIRÁ MÁS AUN EL NUMERO DE PALABRAS, LLAMADO **LEMATIZACIÓN**, QUE CONSISTE EN, DADA UNA FORMA (YA SEA EN PLURAL, FEMENINO O\n",
    "MASCULINO, CONJUGADA, ETC,), HALLA EL LEMA CORRESPONDIENTE, ES DECIR, LA FORMA QUE POR CONVENIO SE ACEPTA COMO \n",
    "REPRESENTANTE DE TODAS LAS FORMAS FLEXIONADAS DE UNA MISMA PALABRA."
   ]
  },
  {
   "cell_type": "code",
   "execution_count": 58,
   "metadata": {},
   "outputs": [
    {
     "data": {
      "text/plain": [
       "'\\nnlp  =  en_core_web_sm.load()\\ndef lematizacion(df,column):\\n    for i in df[column]:\\n        for x in range(len(i)):\\n            i[x]=nlp(i[x])\\n            i[x]=\" \".join([i.lemma_ for i in i[x]])\\n    return df[column][30]\\n\\n'"
      ]
     },
     "execution_count": 58,
     "metadata": {},
     "output_type": "execute_result"
    }
   ],
   "source": [
    "\"\"\"\n",
    "nlp  =  en_core_web_sm.load()\n",
    "def lematizacion(df,column):\n",
    "    for i in df[column]:\n",
    "        for x in range(len(i)):\n",
    "            i[x]=nlp(i[x])\n",
    "            i[x]=\" \".join([i.lemma_ for i in i[x]])\n",
    "    return df[column][30]\n",
    "\n",
    "\"\"\"    "
   ]
  },
  {
   "cell_type": "code",
   "execution_count": 59,
   "metadata": {},
   "outputs": [
    {
     "data": {
      "text/plain": [
       "'\\nlematizacion(movies,\"review\")\\n'"
      ]
     },
     "execution_count": 59,
     "metadata": {},
     "output_type": "execute_result"
    }
   ],
   "source": [
    "\"\"\"\n",
    "lematizacion(movies,\"review\")\n",
    "\"\"\""
   ]
  },
  {
   "cell_type": "code",
   "execution_count": null,
   "metadata": {},
   "outputs": [],
   "source": [
    "       \n",
    "                  "
   ]
  },
  {
   "cell_type": "code",
   "execution_count": 54,
   "metadata": {},
   "outputs": [
    {
     "data": {
      "text/plain": [
       "0        positive\n",
       "1        positive\n",
       "2        positive\n",
       "3        negative\n",
       "4        positive\n",
       "           ...   \n",
       "49995    positive\n",
       "49996    negative\n",
       "49997    negative\n",
       "49998    negative\n",
       "49999    negative\n",
       "Name: sentiment, Length: 50000, dtype: object"
      ]
     },
     "execution_count": 54,
     "metadata": {},
     "output_type": "execute_result"
    }
   ],
   "source": [
    "#antes de expota\n",
    "movies[\"sentiment\"]"
   ]
  },
  {
   "cell_type": "code",
   "execution_count": 55,
   "metadata": {},
   "outputs": [],
   "source": [
    "movies.to_csv(\"./movies_limpio.csv\")\n"
   ]
  },
  {
   "cell_type": "code",
   "execution_count": 63,
   "metadata": {},
   "outputs": [
    {
     "data": {
      "text/plain": [
       "['movie',\n",
       " 'awful',\n",
       " 'even',\n",
       " 'bother',\n",
       " 'write',\n",
       " 'review',\n",
       " 'garbage',\n",
       " 'say',\n",
       " 'one',\n",
       " 'boring',\n",
       " 'film',\n",
       " 'ever',\n",
       " 'see',\n",
       " 'act',\n",
       " 'bad',\n",
       " 'boy',\n",
       " 'play',\n",
       " 'main',\n",
       " 'character',\n",
       " 'really',\n",
       " 'annoys',\n",
       " 'get',\n",
       " 'expression',\n",
       " 'face',\n",
       " 'movie',\n",
       " 'want',\n",
       " 'slap',\n",
       " 'basically',\n",
       " 'movie',\n",
       " 'slow',\n",
       " 'motion',\n",
       " 'shoot',\n",
       " 'skateboarder',\n",
       " 'weird',\n",
       " 'music',\n",
       " 'utter',\n",
       " 'apparently',\n",
       " 'get',\n",
       " 'write',\n",
       " 'least',\n",
       " 'line',\n",
       " 'text',\n",
       " 'submit',\n",
       " 'comment',\n",
       " 'use',\n",
       " 'line',\n",
       " 'say',\n",
       " 'lead',\n",
       " 'character',\n",
       " 'get',\n",
       " 'one',\n",
       " 'face',\n",
       " 'want',\n",
       " 'slap',\n",
       " 'meh',\n",
       " 'give',\n",
       " 'movie',\n",
       " 'suck']"
      ]
     },
     "execution_count": 63,
     "metadata": {},
     "output_type": "execute_result"
    }
   ],
   "source": []
  },
  {
   "cell_type": "code",
   "execution_count": null,
   "metadata": {},
   "outputs": [],
   "source": []
  }
 ],
 "metadata": {
  "kernelspec": {
   "display_name": "Python 3",
   "language": "python",
   "name": "python3"
  },
  "language_info": {
   "codemirror_mode": {
    "name": "ipython",
    "version": 3
   },
   "file_extension": ".py",
   "mimetype": "text/x-python",
   "name": "python",
   "nbconvert_exporter": "python",
   "pygments_lexer": "ipython3",
   "version": "3.8.3"
  }
 },
 "nbformat": 4,
 "nbformat_minor": 4
}
