{
 "cells": [
  {
   "cell_type": "code",
   "execution_count": 1,
   "metadata": {},
   "outputs": [],
   "source": [
    "from nltk.corpus import stopwords\n",
    "import nltk\n",
    "import re\n",
    "import pandas as pd\n",
    "from sklearn.model_selection import train_test_split\n",
    "import numpy as np\n",
    "from keras.preprocessing.text import Tokenizer\n",
    "from keras.preprocessing.sequence import pad_sequences\n",
    "\n",
    "\n",
    "\n",
    "    \n",
    "    \n",
    "    "
   ]
  },
  {
   "cell_type": "code",
   "execution_count": 2,
   "metadata": {},
   "outputs": [],
   "source": [
    "movies = pd.read_csv(\"../datasets/reseñas_limpio.csv\") #IMPORTO MI CSV LIMPIO"
   ]
  },
  {
   "cell_type": "markdown",
   "metadata": {},
   "source": [
    "**A CONTINUACION VOY A DIVIDIR LOS DATOS IGUAL QUE HICE PARA ENTRENAR MI MODELO, VAN A TENER LAS MISMAS DIMENSIONES Y SEPARACIONES.\n",
    "DE ESTAS SEPARACIONES SOLO ME VA A INTERESAR EL X ENTRENAMIENTO YA QUE CON EL ESCOGI EL VOCABULARIO DE LAS 5000 PALABRAS MÁS FRECUENTES Y FUE CON LAS PALABRAS CON LAS QUE APRENDIO, ASIQUE, CON ESAS MISMAS PALABRAS HAREMOS LAS PREDICCIONES DE LAS RESEÑAS NUEVAS QUE SE LE PRESENTEN**"
   ]
  },
  {
   "cell_type": "code",
   "execution_count": 3,
   "metadata": {},
   "outputs": [],
   "source": [
    "y = movies['sentiment'] #NUESTRA VARIABLE Y CON 0 Y 1 PARA LAS ETIQUETAS DEL SENTIMIENTO\n",
    "\n",
    "y = np.array(list(map(lambda x: 1 if x==\"positive\" else 0, y))) #CON ESTO LO QUE HAGO ES ESTABLECER EN 1 LOS POSITIVOS \n",
    "#Y EN 0 LOS NEGATIVOS.\n",
    "\n",
    "X = movies[\"review\"] #LA VARABLE X SERAN LAS LISTAS DE PALABRAS DE RESEÑAS"
   ]
  },
  {
   "cell_type": "code",
   "execution_count": 4,
   "metadata": {},
   "outputs": [],
   "source": [
    "X_train, X_test, y_train, y_test = train_test_split(X, y, test_size=0.20, random_state=42)\n",
    "#HAGO LAS MISMAS SEPARACIONES CON EL MISMO RANDOM PARA TENER LOS MISMOS DATOS DISTRIBUIDOS, Y ASI MI MODELO FUNCIONARÁ COMO DEBE."
   ]
  },
  {
   "cell_type": "code",
   "execution_count": null,
   "metadata": {},
   "outputs": [],
   "source": [
    "\n"
   ]
  },
  {
   "cell_type": "code",
   "execution_count": null,
   "metadata": {},
   "outputs": [],
   "source": []
  },
  {
   "cell_type": "code",
   "execution_count": null,
   "metadata": {},
   "outputs": [],
   "source": []
  },
  {
   "cell_type": "markdown",
   "metadata": {},
   "source": [
    "**AHORA CARGARE MI MODELO, QUE GUARDE EN EL OTRO CUADERNO**"
   ]
  },
  {
   "cell_type": "code",
   "execution_count": 5,
   "metadata": {},
   "outputs": [
    {
     "name": "stdout",
     "output_type": "stream",
     "text": [
      "modelo cargado\n"
     ]
    }
   ],
   "source": [
    "from keras.models import model_from_json\n",
    "json_file = open('model.json', 'r')\n",
    "loaded_model_json = json_file.read()\n",
    " \n",
    "json_file.close()\n",
    "loaded_model = model_from_json(loaded_model_json)\n",
    "# se cargan los pesos (weights) en el nuevo modelo\n",
    "loaded_model.load_weights(\"model.h5\")\n",
    "print(\"modelo cargado\")\n"
   ]
  },
  {
   "cell_type": "code",
   "execution_count": 6,
   "metadata": {},
   "outputs": [],
   "source": [
    "#CREO UNA FUNCION PARA QUE ME LIMPIE TODA LA RESEÑA Y ME LA DEJE LISTA PARA PREDECIR."
   ]
  },
  {
   "cell_type": "code",
   "execution_count": 7,
   "metadata": {},
   "outputs": [],
   "source": [
    "\n",
    "def preprocessing_sentence(sentence):\n",
    "    stoplist = set(stopwords.words(\"english\"))\n",
    "    \n",
    "    \n",
    "    #quito etiquetas\n",
    "    sentence = re.sub(r'<[^>]*?>', '',sentence)\n",
    "    #quito signos de puntuacion\n",
    "    sentence = re.sub('[^a-zA-Z]', ' ',sentence)\n",
    "    #quito espacios en blanco\n",
    "    sentence= re.sub(r'\\s+', ' ',sentence)\n",
    "    #todo minusculas\n",
    "    sentence = sentence.lower()\n",
    "    #quitar_string_cortos\n",
    "    sentence = sentence.split()\n",
    "    sentence = [x for x in sentence if len(x)>=3]\n",
    "    sentence = \" \".join(sentence)\n",
    "    #quitar palabras irrelevantes que esten en el stopwords\n",
    "    sentence = sentence.split()\n",
    "    sentence = [w for w in sentence if w not in stoplist]\n",
    "    #convierto sentencia a serie pandas, luego a string de lista como el formato con los que entrenó el modelo\n",
    "    sentence = pd.Series(str(sentence))\n",
    "  \n",
    "    return sentence\n",
    "    \n",
    "    "
   ]
  },
  {
   "cell_type": "code",
   "execution_count": 8,
   "metadata": {},
   "outputs": [],
   "source": [
    "\n",
    "def prediccion_reseña(reseña,voc_train): #recibira la reseña procesada y el train con el que entrene el modelo\n",
    "    #train = pd.read_csv(\"datasets/train_vocabulario.csv\")\n",
    "    token = Tokenizer(num_words=5000) #me quedo con las 5000 palabras mas frecuences, con las que entrenó el modelo\n",
    "    token.fit_on_texts(voc_train) #actualizo vocabulario\n",
    "    #convierto a numeros el entreno y la reseña\n",
    "    voc_train = token.texts_to_sequences(voc_train)\n",
    "    reseña = token.texts_to_sequences(reseña)\n",
    "    #establezco el mismo tamaño de entrada que le meti a mi red neuronal, es decir, de una lista de 100 números.\n",
    "    reseña = pad_sequences(reseña, padding='post', maxlen=100)\n",
    "    #prediccion\n",
    "    pred = loaded_model.predict(reseña)\n",
    "    if pred > 0.5:\n",
    "        print(\":)\")\n",
    "    else:\n",
    "        print(\":(\")\n",
    "    \n",
    "   \n",
    "    \n",
    " \n",
    "    \n",
    "    "
   ]
  },
  {
   "cell_type": "markdown",
   "metadata": {},
   "source": [
    "**HE COGIDO UNA RESEÑA DE UNA PAGINA WEB DE RESEÑAS DE USUARIOS DE PELICULAS, OBVIAMENTE SE NOTA QUE ES POSITIVA.**"
   ]
  },
  {
   "cell_type": "code",
   "execution_count": 9,
   "metadata": {},
   "outputs": [],
   "source": [
    "r = \"With its peppy cast and its brilliant, social media-hued color palette, Freaky never forgets to be anything less than a fun time.\""
   ]
  },
  {
   "cell_type": "code",
   "execution_count": 10,
   "metadata": {},
   "outputs": [
    {
     "data": {
      "text/plain": [
       "0    ['peppy', 'cast', 'brilliant', 'social', 'medi...\n",
       "dtype: object"
      ]
     },
     "execution_count": 10,
     "metadata": {},
     "output_type": "execute_result"
    }
   ],
   "source": [
    "reseña = preprocessing_sentence(r)\n",
    "reseña #VEMOS PROCESADA LA RESEÑA."
   ]
  },
  {
   "cell_type": "code",
   "execution_count": 11,
   "metadata": {},
   "outputs": [
    {
     "name": "stdout",
     "output_type": "stream",
     "text": [
      ":)\n"
     ]
    }
   ],
   "source": [
    "prediccion_reseña(reseña,X_train) #PREDECIMOS... LA CARITA SONRIENTE INDICA QUE ES POSITIVA."
   ]
  },
  {
   "cell_type": "markdown",
   "metadata": {},
   "source": [
    "**HARÉ OTRA PRUEBA CON UNA MUY MALA Y VEREMOS SI ESA CARA CAMBIA O ES LA MISMA...**"
   ]
  },
  {
   "cell_type": "code",
   "execution_count": 12,
   "metadata": {},
   "outputs": [],
   "source": [
    "reseña_negativa = \"the movie is a horror, they should censor it, because of course it makes me want to vomit, I'm not going to take my children to see this movie even if they give me a million euros.\""
   ]
  },
  {
   "cell_type": "code",
   "execution_count": 13,
   "metadata": {},
   "outputs": [
    {
     "name": "stdout",
     "output_type": "stream",
     "text": [
      "0    ['movie', 'horror', 'censor', 'course', 'makes...\n",
      "dtype: object\n"
     ]
    }
   ],
   "source": [
    "reseña_negativa = preprocessing_sentence(reseña_negativa)\n",
    "print(reseña_negativa)"
   ]
  },
  {
   "cell_type": "code",
   "execution_count": 14,
   "metadata": {},
   "outputs": [
    {
     "name": "stdout",
     "output_type": "stream",
     "text": [
      ":(\n"
     ]
    }
   ],
   "source": [
    "prediccion_reseña(reseña_negativa,X_train) #podemos observar que efectivamente, de una reseña que inventamos nosotros \n",
    "#a podido clasificarla correctamente."
   ]
  },
  {
   "cell_type": "code",
   "execution_count": 15,
   "metadata": {},
   "outputs": [],
   "source": [
    "#otra reseña negativa...\n",
    "otra_negativa = \"Simply put, Freaky sucks.\""
   ]
  },
  {
   "cell_type": "code",
   "execution_count": 16,
   "metadata": {},
   "outputs": [
    {
     "name": "stdout",
     "output_type": "stream",
     "text": [
      "0    ['simply', 'put', 'freaky', 'sucks']\n",
      "dtype: object\n"
     ]
    }
   ],
   "source": [
    "otra_negativa = preprocessing_sentence(otra_negativa)\n",
    "print(otra_negativa)"
   ]
  },
  {
   "cell_type": "code",
   "execution_count": 17,
   "metadata": {},
   "outputs": [
    {
     "name": "stdout",
     "output_type": "stream",
     "text": [
      ":(\n"
     ]
    }
   ],
   "source": [
    "prediccion_reseña(otra_negativa,X_train)\n"
   ]
  },
  {
   "cell_type": "code",
   "execution_count": 18,
   "metadata": {},
   "outputs": [],
   "source": [
    "#ahora con una reseña buena"
   ]
  },
  {
   "cell_type": "code",
   "execution_count": 19,
   "metadata": {},
   "outputs": [],
   "source": [
    "reseña_buena = \"Sound of Metal is a film with perfect narrative rhythm; the cinematic story makes interesting, poignant decisions for the entirety of its runtime.\"\n",
    "\n",
    "\n",
    "\n"
   ]
  },
  {
   "cell_type": "code",
   "execution_count": 20,
   "metadata": {},
   "outputs": [
    {
     "name": "stdout",
     "output_type": "stream",
     "text": [
      "0    ['sound', 'metal', 'film', 'perfect', 'narrati...\n",
      "dtype: object\n"
     ]
    }
   ],
   "source": [
    "reseña_buena = preprocessing_sentence(reseña_buena)\n",
    "\n",
    "print(reseña_buena)"
   ]
  },
  {
   "cell_type": "code",
   "execution_count": 21,
   "metadata": {},
   "outputs": [
    {
     "name": "stdout",
     "output_type": "stream",
     "text": [
      ":)\n"
     ]
    }
   ],
   "source": [
    "prediccion_reseña(reseña_buena,X_train) "
   ]
  },
  {
   "cell_type": "code",
   "execution_count": 22,
   "metadata": {},
   "outputs": [],
   "source": [
    "#otra positiva"
   ]
  },
  {
   "cell_type": "code",
   "execution_count": 23,
   "metadata": {},
   "outputs": [],
   "source": [
    "positiva = \"Nomadland is a humanist masterpiece ... This is a quiet film, but never a dull one, with shots and themes that will continue to resonate \""
   ]
  },
  {
   "cell_type": "code",
   "execution_count": 24,
   "metadata": {},
   "outputs": [
    {
     "name": "stdout",
     "output_type": "stream",
     "text": [
      "0    ['nomadland', 'humanist', 'masterpiece', 'quie...\n",
      "dtype: object\n"
     ]
    }
   ],
   "source": [
    "positiva = preprocessing_sentence(positiva)\n",
    "print(positiva)"
   ]
  },
  {
   "cell_type": "code",
   "execution_count": 25,
   "metadata": {},
   "outputs": [
    {
     "name": "stdout",
     "output_type": "stream",
     "text": [
      ":)\n"
     ]
    }
   ],
   "source": [
    "prediccion_reseña(positiva,X_train) \n",
    "\n"
   ]
  },
  {
   "cell_type": "code",
   "execution_count": 26,
   "metadata": {},
   "outputs": [],
   "source": [
    "padrino = \"One of the greatest movies of all time.\""
   ]
  },
  {
   "cell_type": "code",
   "execution_count": 27,
   "metadata": {},
   "outputs": [],
   "source": [
    "padrino = preprocessing_sentence(padrino)"
   ]
  },
  {
   "cell_type": "code",
   "execution_count": 28,
   "metadata": {},
   "outputs": [
    {
     "name": "stdout",
     "output_type": "stream",
     "text": [
      ":)\n"
     ]
    }
   ],
   "source": [
    "prediccion_reseña(padrino,X_train) "
   ]
  },
  {
   "cell_type": "code",
   "execution_count": null,
   "metadata": {},
   "outputs": [],
   "source": [
    "\n"
   ]
  },
  {
   "cell_type": "code",
   "execution_count": 155,
   "metadata": {},
   "outputs": [],
   "source": []
  },
  {
   "cell_type": "code",
   "execution_count": 156,
   "metadata": {},
   "outputs": [],
   "source": []
  },
  {
   "cell_type": "code",
   "execution_count": null,
   "metadata": {},
   "outputs": [],
   "source": [
    "\n",
    "   "
   ]
  },
  {
   "cell_type": "code",
   "execution_count": null,
   "metadata": {},
   "outputs": [],
   "source": []
  },
  {
   "cell_type": "code",
   "execution_count": null,
   "metadata": {},
   "outputs": [],
   "source": []
  }
 ],
 "metadata": {
  "kernelspec": {
   "display_name": "Python 3",
   "language": "python",
   "name": "python3"
  },
  "language_info": {
   "codemirror_mode": {
    "name": "ipython",
    "version": 3
   },
   "file_extension": ".py",
   "mimetype": "text/x-python",
   "name": "python",
   "nbconvert_exporter": "python",
   "pygments_lexer": "ipython3",
   "version": "3.8.3"
  }
 },
 "nbformat": 4,
 "nbformat_minor": 4
}
