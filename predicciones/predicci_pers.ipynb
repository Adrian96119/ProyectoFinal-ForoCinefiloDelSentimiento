{
 "cells": [
  {
   "cell_type": "code",
   "execution_count": 1,
   "metadata": {},
   "outputs": [],
   "source": [
    "import joblib\n",
    "from nltk.corpus import stopwords\n",
    "import nltk\n",
    "import re\n",
    "import pandas as pd\n",
    "from sklearn.model_selection import train_test_split\n",
    "import numpy as np\n",
    "from keras.preprocessing.text import Tokenizer\n",
    "from keras.preprocessing.sequence import pad_sequences\n"
   ]
  },
  {
   "cell_type": "code",
   "execution_count": 2,
   "metadata": {},
   "outputs": [],
   "source": [
    "df = pd.read_csv(\"../datasets/personalidades_limpio.csv\")\n"
   ]
  },
  {
   "cell_type": "code",
   "execution_count": 3,
   "metadata": {},
   "outputs": [],
   "source": [
    "def preprocessing_sentence(sentence):\n",
    "    stoplist = set(stopwords.words(\"english\"))\n",
    "    \n",
    "    \n",
    "    #quito etiquetas\n",
    "    sentence = re.sub(r'<[^>]*?>', '',sentence)\n",
    "    #quito signos de puntuacion\n",
    "    sentence = re.sub('[^a-zA-Z]', ' ',sentence)\n",
    "    #quito espacios en blanco\n",
    "    sentence= re.sub(r'\\s+', ' ',sentence)\n",
    "    #todo minusculas\n",
    "    sentence = sentence.lower()\n",
    "    #quitar_string_cortos\n",
    "    sentence = sentence.split()\n",
    "    sentence = [x for x in sentence if len(x)>=3]\n",
    "    sentence = \" \".join(sentence)\n",
    "    #quitar palabras irrelevantes que esten en el stopwords\n",
    "    sentence = sentence.split()\n",
    "    sentence = [w for w in sentence if w not in stoplist]\n",
    "    #convierto sentencia a serie pandas, luego a string de lista como el formato con los que entrenó el modelo\n",
    "    sentence = pd.Series(str(sentence))\n",
    "  \n",
    "    return sentence"
   ]
  },
  {
   "cell_type": "code",
   "execution_count": 4,
   "metadata": {},
   "outputs": [],
   "source": [
    "r = \"With its peppy cast and its brilliant, social media-hued color palette, Freaky never forgets to be anything less than a fun time.\""
   ]
  },
  {
   "cell_type": "code",
   "execution_count": 5,
   "metadata": {},
   "outputs": [],
   "source": [
    "r = preprocessing_sentence(r)\n"
   ]
  },
  {
   "cell_type": "code",
   "execution_count": 6,
   "metadata": {},
   "outputs": [],
   "source": [
    "X = df[\"come\"]\n",
    "y = df[\"pers\"]"
   ]
  },
  {
   "cell_type": "code",
   "execution_count": 7,
   "metadata": {},
   "outputs": [],
   "source": [
    "X_train, X_test, y_train, y_test = train_test_split(X, y, test_size=0.20, random_state=42)"
   ]
  },
  {
   "cell_type": "code",
   "execution_count": 8,
   "metadata": {},
   "outputs": [],
   "source": [
    "token = Tokenizer(num_words=4000)  #establezco el número máximo de palabras que se pueden conservar, según la frecuencia de palabras.\n",
    "token.fit_on_texts(X_train)"
   ]
  },
  {
   "cell_type": "code",
   "execution_count": 9,
   "metadata": {},
   "outputs": [],
   "source": [
    "X_train = token.texts_to_sequences(X_train)\n",
    "r = token.texts_to_sequences(r)\n"
   ]
  },
  {
   "cell_type": "code",
   "execution_count": null,
   "metadata": {},
   "outputs": [],
   "source": []
  },
  {
   "cell_type": "code",
   "execution_count": 10,
   "metadata": {},
   "outputs": [],
   "source": [
    "r= pad_sequences(r, padding='post', maxlen=100)"
   ]
  },
  {
   "cell_type": "code",
   "execution_count": 11,
   "metadata": {},
   "outputs": [],
   "source": [
    "modelo = joblib.load('modelo_tree.pkl')"
   ]
  },
  {
   "cell_type": "code",
   "execution_count": 12,
   "metadata": {},
   "outputs": [],
   "source": [
    "pred = modelo.predict(r)"
   ]
  },
  {
   "cell_type": "code",
   "execution_count": 13,
   "metadata": {},
   "outputs": [
    {
     "data": {
      "text/plain": [
       "array([4], dtype=int64)"
      ]
     },
     "execution_count": 13,
     "metadata": {},
     "output_type": "execute_result"
    }
   ],
   "source": [
    "pred"
   ]
  },
  {
   "cell_type": "code",
   "execution_count": 14,
   "metadata": {},
   "outputs": [],
   "source": [
    "def prediccion_personalidad(sentence,modelo):\n",
    "    df = pd.read_csv(\"../datasets/personalidades_limpio.csv\")\n",
    "    X = df[\"come\"]\n",
    "    y = df[\"pers\"]\n",
    "    X_train, X_test, y_train, y_test = train_test_split(X, y, test_size=0.20, random_state=42)\n",
    "    token = Tokenizer(num_words=4000)  #establezco el número máximo de palabras que se pueden conservar, según la frecuencia de palabras.\n",
    "    token.fit_on_texts(X_train)\n",
    "    X_train = token.texts_to_sequences(X_train)\n",
    "    sentence = token.texts_to_sequences(sentence)\n",
    "    sentence= pad_sequences(sentence, padding='post', maxlen=100)\n",
    "    \n",
    "    pred = modelo.predict(sentence)\n",
    "    return pred\n",
    "    \n",
    "    \n",
    "    \n",
    "    "
   ]
  },
  {
   "cell_type": "code",
   "execution_count": 15,
   "metadata": {},
   "outputs": [],
   "source": [
    "reli = \"With its peppy cast and its brilliant, social media-hued color palette, Freaky never forgets to be anything less than a fun time.\"\n"
   ]
  },
  {
   "cell_type": "code",
   "execution_count": null,
   "metadata": {},
   "outputs": [],
   "source": []
  },
  {
   "cell_type": "code",
   "execution_count": 16,
   "metadata": {},
   "outputs": [],
   "source": [
    "reli = preprocessing_sentence(reli)"
   ]
  },
  {
   "cell_type": "code",
   "execution_count": 17,
   "metadata": {},
   "outputs": [
    {
     "data": {
      "text/plain": [
       "array([4], dtype=int64)"
      ]
     },
     "execution_count": 17,
     "metadata": {},
     "output_type": "execute_result"
    }
   ],
   "source": [
    "prediccion_personalidad(reli,modelo)"
   ]
  },
  {
   "cell_type": "code",
   "execution_count": 18,
   "metadata": {},
   "outputs": [],
   "source": [
    "res = \"A film about a virus-ravaged country under lockdown should be able to hit cogent parallels at will at the moment - but a numbing repetition is sadly the main payout.\""
   ]
  },
  {
   "cell_type": "code",
   "execution_count": 19,
   "metadata": {},
   "outputs": [],
   "source": [
    "res = preprocessing_sentence(res)"
   ]
  },
  {
   "cell_type": "code",
   "execution_count": 21,
   "metadata": {},
   "outputs": [
    {
     "data": {
      "text/plain": [
       "array([7], dtype=int64)"
      ]
     },
     "execution_count": 21,
     "metadata": {},
     "output_type": "execute_result"
    }
   ],
   "source": [
    "prediccion_personalidad(res,modelo)"
   ]
  },
  {
   "cell_type": "code",
   "execution_count": null,
   "metadata": {},
   "outputs": [],
   "source": []
  }
 ],
 "metadata": {
  "kernelspec": {
   "display_name": "Python 3",
   "language": "python",
   "name": "python3"
  },
  "language_info": {
   "codemirror_mode": {
    "name": "ipython",
    "version": 3
   },
   "file_extension": ".py",
   "mimetype": "text/x-python",
   "name": "python",
   "nbconvert_exporter": "python",
   "pygments_lexer": "ipython3",
   "version": "3.8.3"
  }
 },
 "nbformat": 4,
 "nbformat_minor": 4
}
